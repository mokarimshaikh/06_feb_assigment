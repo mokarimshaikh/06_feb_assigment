{
 "cells": [
  {
   "cell_type": "code",
   "execution_count": 33,
   "id": "50f7a950-441d-453b-9a4b-a2c49d190cdd",
   "metadata": {},
   "outputs": [],
   "source": [
    "# Q .1\n"
   ]
  },
  {
   "cell_type": "code",
   "execution_count": 3,
   "id": "19a94603-c0a6-4e8a-9393-969d182ce6df",
   "metadata": {},
   "outputs": [],
   "source": [
    "list1 = [1,2,3,4, [44,55,66, True], False, (34,56,78,89,34), {1,2,3,3,2,1}, {1:34, \"key2\": [55, 67, 78, 89], 4: (45,\n",
    "22, 61, 34)}, [56, 'data science'], 'Machine Learning']"
   ]
  },
  {
   "cell_type": "code",
   "execution_count": 27,
   "id": "be797ef0-a634-4e09-badb-457fc56ae5dd",
   "metadata": {},
   "outputs": [],
   "source": [
    "def product_of_num(input_list) :\n",
    "    num=1\n",
    "    \n",
    "    for i in list1 :\n",
    "        if type(i) == int :\n",
    "            num=num*i\n",
    "        if type(i) == list :\n",
    "            for z in i :\n",
    "                if type(z) == int :\n",
    "                    num=num*z\n",
    "        elif type(i) ==  tuple :\n",
    "            for x in i :\n",
    "                if type(x) == int :\n",
    "                    num=num*x\n",
    "        elif type(i) == set :\n",
    "            for y in i :\n",
    "                if type(y) == int :\n",
    "                    num=num*y\n",
    "        elif type(i) == dict :\n",
    "            for k , v  in i.items() :\n",
    "                if type(k) == int  :\n",
    "                    num=num*k\n",
    "                elif type(v) == list :\n",
    "                    for value in v :\n",
    "                        num=num*value\n",
    "                if type(v) == tuple :\n",
    "                    for values in v :\n",
    "                        num=num*values\n",
    "                    \n",
    "    return num     "
   ]
  },
  {
   "cell_type": "code",
   "execution_count": 28,
   "id": "61679f07-928e-4e87-8905-4be12e834fad",
   "metadata": {},
   "outputs": [],
   "source": [
    "result = product_of_num(list1)"
   ]
  },
  {
   "cell_type": "code",
   "execution_count": 32,
   "id": "f7b18381-859f-40ed-aa56-7db73538775f",
   "metadata": {},
   "outputs": [
    {
     "name": "stdout",
     "output_type": "stream",
     "text": [
      "Product of all the numbers in the list :  121609171734914278789230624768000\n"
     ]
    }
   ],
   "source": [
    "print( \"Product of all the numbers in the list : \" ,result)"
   ]
  },
  {
   "cell_type": "code",
   "execution_count": 34,
   "id": "28a9e1aa-905e-4225-af96-e7b8367f6a85",
   "metadata": {},
   "outputs": [],
   "source": [
    "# Q .2\n"
   ]
  },
  {
   "cell_type": "code",
   "execution_count": 51,
   "id": "1d2fcdc8-672b-4a5e-828d-0acf136e6728",
   "metadata": {},
   "outputs": [],
   "source": [
    "def encrypt_massage(massage) :\n",
    "    encrypted_massage= \"\"\n",
    "    for char in massage :\n",
    "        if char.isalpha() :\n",
    "            offset = ord(char) - ord('a')\n",
    "            encrypted_char = chr(ord('z') - offset)\n",
    "            encrypted_massage += encrypted_char\n",
    "        elif char == ' ' :\n",
    "            encrypted_massage += '$'\n",
    "        else:\n",
    "            encrypted_massage += char\n",
    "            \n",
    "    return encrypted_massage.lower()"
   ]
  },
  {
   "cell_type": "code",
   "execution_count": 52,
   "id": "d055f22f-8a19-402c-a1b4-07ebe1b2a7b3",
   "metadata": {},
   "outputs": [],
   "source": [
    "massage = \"I want to become a Data Scientist.\""
   ]
  },
  {
   "cell_type": "code",
   "execution_count": 53,
   "id": "c5c6e484-049a-411a-92b0-5e400dace9ed",
   "metadata": {},
   "outputs": [],
   "source": [
    "input_sentence = massage.lower()"
   ]
  },
  {
   "cell_type": "code",
   "execution_count": 54,
   "id": "eb62be3b-1123-4e4a-8bd3-1db2e55de33b",
   "metadata": {},
   "outputs": [],
   "source": [
    "result = encrypt_massage(input_sentence)"
   ]
  },
  {
   "cell_type": "code",
   "execution_count": 55,
   "id": "a5a48155-098e-4f61-839e-ab2ea84a8516",
   "metadata": {},
   "outputs": [
    {
     "name": "stdout",
     "output_type": "stream",
     "text": [
      "r$dzmg$gl$yvxlnv$z$wzgz$hxrvmgrhg.\n"
     ]
    }
   ],
   "source": [
    "print(result)"
   ]
  },
  {
   "cell_type": "code",
   "execution_count": null,
   "id": "3e028ac4-f526-422c-b83b-49b6417eb027",
   "metadata": {},
   "outputs": [],
   "source": []
  }
 ],
 "metadata": {
  "kernelspec": {
   "display_name": "Python 3 (ipykernel)",
   "language": "python",
   "name": "python3"
  },
  "language_info": {
   "codemirror_mode": {
    "name": "ipython",
    "version": 3
   },
   "file_extension": ".py",
   "mimetype": "text/x-python",
   "name": "python",
   "nbconvert_exporter": "python",
   "pygments_lexer": "ipython3",
   "version": "3.10.8"
  }
 },
 "nbformat": 4,
 "nbformat_minor": 5
}
